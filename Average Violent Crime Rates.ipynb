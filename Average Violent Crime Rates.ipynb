{
 "cells": [
  {
   "cell_type": "code",
   "execution_count": 1,
   "metadata": {
    "collapsed": true
   },
   "outputs": [],
   "source": [
    "import pandas as pd\n",
    "import geopandas as gpd"
   ]
  },
  {
   "cell_type": "code",
   "execution_count": 2,
   "metadata": {
    "collapsed": true
   },
   "outputs": [],
   "source": [
    "k41 = gpd.read_file(\"k4_clusters_close/cluster_1/k4_cl1_close.shp\")\n",
    "k42 = gpd.read_file(\"k4_clusters_close/cluster_2/k4_cl2_close.shp\")\n",
    "k43 = gpd.read_file(\"k4_clusters_close/cluster_3/k4_cl3_close.shp\")\n",
    "k44 = gpd.read_file(\"k4_clusters_close/cluster_4/k4_cl4_close.shp\")"
   ]
  },
  {
   "cell_type": "code",
   "execution_count": 4,
   "metadata": {
    "collapsed": false
   },
   "outputs": [],
   "source": [
    "cc41 = gpd.read_file(\"cc4_clusters_close/cluster_1/cc4_cl1_close.shp\")\n",
    "cc42 = gpd.read_file(\"cc4_clusters_close/cluster_2/cc4_cl2_close.shp\")\n",
    "cc43 = gpd.read_file(\"cc4_clusters_close/cluster_3/cc4_cl3_close.shp\")\n",
    "cc44 = gpd.read_file(\"cc4_clusters_close/cluster_4/cc4_cl4_close.shp\")"
   ]
  },
  {
   "cell_type": "code",
   "execution_count": 7,
   "metadata": {
    "collapsed": false
   },
   "outputs": [
    {
     "data": {
      "text/plain": [
       "count    5852.000000\n",
       "mean        0.024556\n",
       "std         0.012320\n",
       "min         0.009400\n",
       "25%         0.015200\n",
       "50%         0.019400\n",
       "75%         0.034600\n",
       "max         0.048800\n",
       "Name: VlntCrRt, dtype: float64"
      ]
     },
     "execution_count": 7,
     "metadata": {},
     "output_type": "execute_result"
    }
   ],
   "source": [
    "k41[\"VlntCrRt\"].describe()"
   ]
  },
  {
   "cell_type": "code",
   "execution_count": 8,
   "metadata": {
    "collapsed": false
   },
   "outputs": [
    {
     "data": {
      "text/plain": [
       "count    9744.000000\n",
       "mean        0.015522\n",
       "std         0.007471\n",
       "min         0.004200\n",
       "25%         0.011100\n",
       "50%         0.013600\n",
       "75%         0.018600\n",
       "max         0.039000\n",
       "Name: VlntCrRt, dtype: float64"
      ]
     },
     "execution_count": 8,
     "metadata": {},
     "output_type": "execute_result"
    }
   ],
   "source": [
    "k42[\"VlntCrRt\"].describe()"
   ]
  },
  {
   "cell_type": "code",
   "execution_count": 9,
   "metadata": {
    "collapsed": false
   },
   "outputs": [
    {
     "data": {
      "text/plain": [
       "count    2495.000000\n",
       "mean        0.080026\n",
       "std         0.017699\n",
       "min         0.031400\n",
       "25%         0.081500\n",
       "50%         0.087500\n",
       "75%         0.093100\n",
       "max         0.097900\n",
       "Name: VlntCrRt, dtype: float64"
      ]
     },
     "execution_count": 9,
     "metadata": {},
     "output_type": "execute_result"
    }
   ],
   "source": [
    "k43[\"VlntCrRt\"].describe()"
   ]
  },
  {
   "cell_type": "code",
   "execution_count": 10,
   "metadata": {
    "collapsed": false
   },
   "outputs": [
    {
     "data": {
      "text/plain": [
       "count    8042.000000\n",
       "mean        0.048012\n",
       "std         0.018514\n",
       "min         0.008500\n",
       "25%         0.037500\n",
       "50%         0.054900\n",
       "75%         0.061200\n",
       "max         0.073200\n",
       "Name: VlntCrRt, dtype: float64"
      ]
     },
     "execution_count": 10,
     "metadata": {},
     "output_type": "execute_result"
    }
   ],
   "source": [
    "k44[\"VlntCrRt\"].describe()"
   ]
  },
  {
   "cell_type": "code",
   "execution_count": 11,
   "metadata": {
    "collapsed": false
   },
   "outputs": [
    {
     "data": {
      "text/plain": [
       "count    9951.000000\n",
       "mean        0.015594\n",
       "std         0.007381\n",
       "min         0.004200\n",
       "25%         0.011100\n",
       "50%         0.014600\n",
       "75%         0.017600\n",
       "max         0.039000\n",
       "Name: VlntCrRt, dtype: float64"
      ]
     },
     "execution_count": 11,
     "metadata": {},
     "output_type": "execute_result"
    }
   ],
   "source": [
    "cc41[\"VlntCrRt\"].describe()"
   ]
  },
  {
   "cell_type": "code",
   "execution_count": 12,
   "metadata": {
    "collapsed": false
   },
   "outputs": [
    {
     "data": {
      "text/plain": [
       "count    8734.000000\n",
       "mean        0.049334\n",
       "std         0.022256\n",
       "min         0.008400\n",
       "25%         0.036300\n",
       "50%         0.052000\n",
       "75%         0.062000\n",
       "max         0.093100\n",
       "Name: VlntCrRt, dtype: float64"
      ]
     },
     "execution_count": 12,
     "metadata": {},
     "output_type": "execute_result"
    }
   ],
   "source": [
    "cc42[\"VlntCrRt\"].describe()"
   ]
  },
  {
   "cell_type": "code",
   "execution_count": 13,
   "metadata": {
    "collapsed": false
   },
   "outputs": [
    {
     "data": {
      "text/plain": [
       "count    3562.00000\n",
       "mean        0.02285\n",
       "std         0.01640\n",
       "min         0.00940\n",
       "25%         0.01280\n",
       "50%         0.01890\n",
       "75%         0.02160\n",
       "max         0.09790\n",
       "Name: VlntCrRt, dtype: float64"
      ]
     },
     "execution_count": 13,
     "metadata": {},
     "output_type": "execute_result"
    }
   ],
   "source": [
    "cc43[\"VlntCrRt\"].describe()"
   ]
  },
  {
   "cell_type": "code",
   "execution_count": 14,
   "metadata": {
    "collapsed": false
   },
   "outputs": [
    {
     "data": {
      "text/plain": [
       "count    3886.000000\n",
       "mean        0.054883\n",
       "std         0.024302\n",
       "min         0.011800\n",
       "25%         0.048800\n",
       "50%         0.054900\n",
       "75%         0.081500\n",
       "max         0.087900\n",
       "Name: VlntCrRt, dtype: float64"
      ]
     },
     "execution_count": 14,
     "metadata": {},
     "output_type": "execute_result"
    }
   ],
   "source": [
    "cc44[\"VlntCrRt\"].describe()"
   ]
  }
 ],
 "metadata": {
  "kernelspec": {
   "display_name": "Python 3",
   "language": "python",
   "name": "python3"
  },
  "language_info": {
   "codemirror_mode": {
    "name": "ipython",
    "version": 3
   },
   "file_extension": ".py",
   "mimetype": "text/x-python",
   "name": "python",
   "nbconvert_exporter": "python",
   "pygments_lexer": "ipython3",
   "version": "3.5.1"
  }
 },
 "nbformat": 4,
 "nbformat_minor": 0
}
