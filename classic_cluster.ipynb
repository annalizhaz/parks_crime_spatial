{
 "cells": [
  {
   "cell_type": "markdown",
   "metadata": {},
   "source": [
    "(Adapted from lab)"
   ]
  },
  {
   "cell_type": "code",
   "execution_count": 3,
   "metadata": {
    "collapsed": true
   },
   "outputs": [],
   "source": [
    "library(foreign)"
   ]
  },
  {
   "cell_type": "code",
   "execution_count": 4,
   "metadata": {
    "collapsed": false
   },
   "outputs": [],
   "source": [
    "dat <- read.dbf(\"ComArea/ComArea_ACS14_f.dbf\")\n",
    "varnames <- c(\"PC1\",\"PC2\",\"PC3\",\"PC4\", \"PC5\")\n",
    "vd <- dat[,varnames]\n",
    "vds <- scale(vd)\n",
    "vdist <- dist(vds)"
   ]
  },
  {
   "cell_type": "markdown",
   "metadata": {},
   "source": [
    "## K-means clustering"
   ]
  },
  {
   "cell_type": "markdown",
   "metadata": {},
   "source": [
    "### k = 6"
   ]
  },
  {
   "cell_type": "code",
   "execution_count": 9,
   "metadata": {
    "collapsed": true
   },
   "outputs": [],
   "source": [
    "set.seed(1234567)\n",
    "km1_6 <- kmeans(vds,6,nstart=20)"
   ]
  },
  {
   "cell_type": "code",
   "execution_count": 10,
   "metadata": {
    "collapsed": false
   },
   "outputs": [
    {
     "data": {
      "text/html": [
       "'kmeans'"
      ],
      "text/latex": [
       "'kmeans'"
      ],
      "text/markdown": [
       "'kmeans'"
      ],
      "text/plain": [
       "[1] \"kmeans\""
      ]
     },
     "metadata": {},
     "output_type": "display_data"
    }
   ],
   "source": [
    "class(km1_6)"
   ]
  },
  {
   "cell_type": "code",
   "execution_count": 11,
   "metadata": {
    "collapsed": false
   },
   "outputs": [
    {
     "name": "stdout",
     "output_type": "stream",
     "text": [
      "List of 9\n",
      " $ cluster     : int [1:77] 4 5 1 4 4 3 2 4 4 3 ...\n",
      " $ centers     : num [1:6, 1:5] -1.846 -1.511 1.139 -0.366 0.775 ...\n",
      "  ..- attr(*, \"dimnames\")=List of 2\n",
      "  .. ..$ : chr [1:6] \"1\" \"2\" \"3\" \"4\" ...\n",
      "  .. ..$ : chr [1:5] \"PC1\" \"PC2\" \"PC3\" \"PC4\" ...\n",
      " $ totss       : num 380\n",
      " $ withinss    : num [1:6] 0 38.1 14.8 34.8 32.7 ...\n",
      " $ tot.withinss: num 153\n",
      " $ betweenss   : num 227\n",
      " $ size        : int [1:6] 1 12 11 16 15 22\n",
      " $ iter        : int 2\n",
      " $ ifault      : int 0\n",
      " - attr(*, \"class\")= chr \"kmeans\"\n"
     ]
    }
   ],
   "source": [
    "str(km1_6)"
   ]
  },
  {
   "cell_type": "code",
   "execution_count": 12,
   "metadata": {
    "collapsed": false
   },
   "outputs": [
    {
     "data": {
      "text/plain": [
       "K-means clustering with 6 clusters of sizes 1, 12, 11, 16, 15, 22\n",
       "\n",
       "Cluster means:\n",
       "          PC1        PC2         PC3        PC4         PC5\n",
       "1 -1.84621421  1.0961092  5.31707403 -2.0044029  1.76059932\n",
       "2 -1.51137202  0.4082092 -0.09963362  0.2372325 -0.95099857\n",
       "3  1.13876129  0.7753233  0.27208843 -0.7579530 -0.70234728\n",
       "4 -0.36627177  0.8978513 -0.54273269  0.1293547  0.92710087\n",
       "5  0.77465815 -0.1345726  0.44979047  1.2423957 -0.08071459\n",
       "6  0.07712638 -1.2213731 -0.23534443 -0.6004779  0.17065039\n",
       "\n",
       "Clustering vector:\n",
       " [1] 4 5 1 4 4 3 2 4 4 3 5 5 5 6 6 6 5 6 6 5 6 6 3 6 3 2 2 2 3 2 3 6 6 3 5 5 3 3\n",
       "[39] 2 2 4 4 4 4 2 5 4 4 6 4 2 6 6 6 6 6 3 5 6 6 6 6 6 6 2 2 2 5 4 4 5 4 5 4 5 3\n",
       "[77] 5\n",
       "\n",
       "Within cluster sum of squares by cluster:\n",
       "[1]  0.00000 38.14663 14.82605 34.80340 32.68567 32.96745\n",
       " (between_SS / total_SS =  59.6 %)\n",
       "\n",
       "Available components:\n",
       "\n",
       "[1] \"cluster\"      \"centers\"      \"totss\"        \"withinss\"     \"tot.withinss\"\n",
       "[6] \"betweenss\"    \"size\"         \"iter\"         \"ifault\"      "
      ]
     },
     "metadata": {},
     "output_type": "display_data"
    }
   ],
   "source": [
    "km1_6"
   ]
  },
  {
   "cell_type": "code",
   "execution_count": 13,
   "metadata": {
    "collapsed": false
   },
   "outputs": [
    {
     "data": {
      "text/html": [
       "<ol class=list-inline>\n",
       "\t<li>4</li>\n",
       "\t<li>5</li>\n",
       "\t<li>1</li>\n",
       "\t<li>4</li>\n",
       "\t<li>4</li>\n",
       "\t<li>3</li>\n",
       "\t<li>2</li>\n",
       "\t<li>4</li>\n",
       "\t<li>4</li>\n",
       "\t<li>3</li>\n",
       "\t<li>5</li>\n",
       "\t<li>5</li>\n",
       "\t<li>5</li>\n",
       "\t<li>6</li>\n",
       "\t<li>6</li>\n",
       "\t<li>6</li>\n",
       "\t<li>5</li>\n",
       "\t<li>6</li>\n",
       "\t<li>6</li>\n",
       "\t<li>5</li>\n",
       "\t<li>6</li>\n",
       "\t<li>6</li>\n",
       "\t<li>3</li>\n",
       "\t<li>6</li>\n",
       "\t<li>3</li>\n",
       "\t<li>2</li>\n",
       "\t<li>2</li>\n",
       "\t<li>2</li>\n",
       "\t<li>3</li>\n",
       "\t<li>2</li>\n",
       "\t<li>3</li>\n",
       "\t<li>6</li>\n",
       "\t<li>6</li>\n",
       "\t<li>3</li>\n",
       "\t<li>5</li>\n",
       "\t<li>5</li>\n",
       "\t<li>3</li>\n",
       "\t<li>3</li>\n",
       "\t<li>2</li>\n",
       "\t<li>2</li>\n",
       "\t<li>4</li>\n",
       "\t<li>4</li>\n",
       "\t<li>4</li>\n",
       "\t<li>4</li>\n",
       "\t<li>2</li>\n",
       "\t<li>5</li>\n",
       "\t<li>4</li>\n",
       "\t<li>4</li>\n",
       "\t<li>6</li>\n",
       "\t<li>4</li>\n",
       "\t<li>2</li>\n",
       "\t<li>6</li>\n",
       "\t<li>6</li>\n",
       "\t<li>6</li>\n",
       "\t<li>6</li>\n",
       "\t<li>6</li>\n",
       "\t<li>3</li>\n",
       "\t<li>5</li>\n",
       "\t<li>6</li>\n",
       "\t<li>6</li>\n",
       "\t<li>6</li>\n",
       "\t<li>6</li>\n",
       "\t<li>6</li>\n",
       "\t<li>6</li>\n",
       "\t<li>2</li>\n",
       "\t<li>2</li>\n",
       "\t<li>2</li>\n",
       "\t<li>5</li>\n",
       "\t<li>4</li>\n",
       "\t<li>4</li>\n",
       "\t<li>5</li>\n",
       "\t<li>4</li>\n",
       "\t<li>5</li>\n",
       "\t<li>4</li>\n",
       "\t<li>5</li>\n",
       "\t<li>3</li>\n",
       "\t<li>5</li>\n",
       "</ol>\n"
      ],
      "text/latex": [
       "\\begin{enumerate*}\n",
       "\\item 4\n",
       "\\item 5\n",
       "\\item 1\n",
       "\\item 4\n",
       "\\item 4\n",
       "\\item 3\n",
       "\\item 2\n",
       "\\item 4\n",
       "\\item 4\n",
       "\\item 3\n",
       "\\item 5\n",
       "\\item 5\n",
       "\\item 5\n",
       "\\item 6\n",
       "\\item 6\n",
       "\\item 6\n",
       "\\item 5\n",
       "\\item 6\n",
       "\\item 6\n",
       "\\item 5\n",
       "\\item 6\n",
       "\\item 6\n",
       "\\item 3\n",
       "\\item 6\n",
       "\\item 3\n",
       "\\item 2\n",
       "\\item 2\n",
       "\\item 2\n",
       "\\item 3\n",
       "\\item 2\n",
       "\\item 3\n",
       "\\item 6\n",
       "\\item 6\n",
       "\\item 3\n",
       "\\item 5\n",
       "\\item 5\n",
       "\\item 3\n",
       "\\item 3\n",
       "\\item 2\n",
       "\\item 2\n",
       "\\item 4\n",
       "\\item 4\n",
       "\\item 4\n",
       "\\item 4\n",
       "\\item 2\n",
       "\\item 5\n",
       "\\item 4\n",
       "\\item 4\n",
       "\\item 6\n",
       "\\item 4\n",
       "\\item 2\n",
       "\\item 6\n",
       "\\item 6\n",
       "\\item 6\n",
       "\\item 6\n",
       "\\item 6\n",
       "\\item 3\n",
       "\\item 5\n",
       "\\item 6\n",
       "\\item 6\n",
       "\\item 6\n",
       "\\item 6\n",
       "\\item 6\n",
       "\\item 6\n",
       "\\item 2\n",
       "\\item 2\n",
       "\\item 2\n",
       "\\item 5\n",
       "\\item 4\n",
       "\\item 4\n",
       "\\item 5\n",
       "\\item 4\n",
       "\\item 5\n",
       "\\item 4\n",
       "\\item 5\n",
       "\\item 3\n",
       "\\item 5\n",
       "\\end{enumerate*}\n"
      ],
      "text/markdown": [
       "1. 4\n",
       "2. 5\n",
       "3. 1\n",
       "4. 4\n",
       "5. 4\n",
       "6. 3\n",
       "7. 2\n",
       "8. 4\n",
       "9. 4\n",
       "10. 3\n",
       "11. 5\n",
       "12. 5\n",
       "13. 5\n",
       "14. 6\n",
       "15. 6\n",
       "16. 6\n",
       "17. 5\n",
       "18. 6\n",
       "19. 6\n",
       "20. 5\n",
       "21. 6\n",
       "22. 6\n",
       "23. 3\n",
       "24. 6\n",
       "25. 3\n",
       "26. 2\n",
       "27. 2\n",
       "28. 2\n",
       "29. 3\n",
       "30. 2\n",
       "31. 3\n",
       "32. 6\n",
       "33. 6\n",
       "34. 3\n",
       "35. 5\n",
       "36. 5\n",
       "37. 3\n",
       "38. 3\n",
       "39. 2\n",
       "40. 2\n",
       "41. 4\n",
       "42. 4\n",
       "43. 4\n",
       "44. 4\n",
       "45. 2\n",
       "46. 5\n",
       "47. 4\n",
       "48. 4\n",
       "49. 6\n",
       "50. 4\n",
       "51. 2\n",
       "52. 6\n",
       "53. 6\n",
       "54. 6\n",
       "55. 6\n",
       "56. 6\n",
       "57. 3\n",
       "58. 5\n",
       "59. 6\n",
       "60. 6\n",
       "61. 6\n",
       "62. 6\n",
       "63. 6\n",
       "64. 6\n",
       "65. 2\n",
       "66. 2\n",
       "67. 2\n",
       "68. 5\n",
       "69. 4\n",
       "70. 4\n",
       "71. 5\n",
       "72. 4\n",
       "73. 5\n",
       "74. 4\n",
       "75. 5\n",
       "76. 3\n",
       "77. 5\n",
       "\n",
       "\n"
      ],
      "text/plain": [
       " [1] 4 5 1 4 4 3 2 4 4 3 5 5 5 6 6 6 5 6 6 5 6 6 3 6 3 2 2 2 3 2 3 6 6 3 5 5 3 3\n",
       "[39] 2 2 4 4 4 4 2 5 4 4 6 4 2 6 6 6 6 6 3 5 6 6 6 6 6 6 2 2 2 5 4 4 5 4 5 4 5 3\n",
       "[77] 5"
      ]
     },
     "metadata": {},
     "output_type": "display_data"
    }
   ],
   "source": [
    "k6 <- km1_4$cluster\n",
    "k6"
   ]
  },
  {
   "cell_type": "code",
   "execution_count": 15,
   "metadata": {
    "collapsed": true
   },
   "outputs": [],
   "source": [
    "set.seed(7654321)\n",
    "km1_6a <- kmeans(vds,6,nstart=50)"
   ]
  },
  {
   "cell_type": "code",
   "execution_count": 16,
   "metadata": {
    "collapsed": false
   },
   "outputs": [
    {
     "data": {
      "text/plain": [
       "K-means clustering with 6 clusters of sizes 14, 15, 22, 1, 14, 11\n",
       "\n",
       "Cluster means:\n",
       "          PC1        PC2         PC3         PC4         PC5\n",
       "1 -0.29411325  0.9416899 -0.67215448  0.02300206  1.00911476\n",
       "2 -1.38963865  0.4015136  0.01647761  0.42535057 -0.73283351\n",
       "3  0.07712638 -1.2213731 -0.23534443 -0.60047789  0.17065039\n",
       "4 -1.84621421  1.0961092  5.31707403 -2.00440287  1.76059932\n",
       "5  0.89894465 -0.1400586  0.43075209  1.20357944 -0.06601371\n",
       "6  1.13876129  0.7753233  0.27208843 -0.75795302 -0.70234728\n",
       "\n",
       "Clustering vector:\n",
       " [1] 1 2 4 2 1 6 2 1 2 6 5 5 5 3 3 3 5 3 3 5 3 3 6 3 6 2 2 2 6 2 6 3 3 6 5 5 6 6\n",
       "[39] 2 2 1 1 1 1 2 5 1 1 3 1 2 3 3 3 3 3 6 5 3 3 3 3 3 3 2 2 2 5 1 1 5 1 5 1 5 6\n",
       "[77] 5\n",
       "\n",
       "Within cluster sum of squares by cluster:\n",
       "[1] 28.87147 47.26055 32.96745  0.00000 28.99754 14.82605\n",
       " (between_SS / total_SS =  59.8 %)\n",
       "\n",
       "Available components:\n",
       "\n",
       "[1] \"cluster\"      \"centers\"      \"totss\"        \"withinss\"     \"tot.withinss\"\n",
       "[6] \"betweenss\"    \"size\"         \"iter\"         \"ifault\"      "
      ]
     },
     "metadata": {},
     "output_type": "display_data"
    }
   ],
   "source": [
    "km1_6a"
   ]
  },
  {
   "cell_type": "markdown",
   "metadata": {},
   "source": [
    "### k = 4"
   ]
  },
  {
   "cell_type": "code",
   "execution_count": 17,
   "metadata": {
    "collapsed": false
   },
   "outputs": [
    {
     "data": {
      "text/plain": [
       "K-means clustering with 4 clusters of sizes 19, 26, 9, 23\n",
       "\n",
       "Cluster means:\n",
       "          PC1        PC2        PC3        PC4        PC5\n",
       "1 -0.02067383 -1.3197790 -0.3080888 -0.6585518  0.2397251\n",
       "2  0.99473676  0.1844324  0.4073263  0.1786573 -0.4549052\n",
       "3 -1.74783186  0.1768150  1.1687408  0.3948536 -0.5412395\n",
       "4 -0.42347245  0.8125749 -0.6632810  0.1875527  0.5279962\n",
       "\n",
       "Clustering vector:\n",
       " [1] 4 3 3 3 4 2 3 4 4 2 2 2 4 1 2 2 2 1 1 2 1 1 2 1 2 4 3 3 2 3 2 1 1 2 2 2 2 2\n",
       "[39] 4 4 4 4 4 4 4 2 4 4 1 4 3 1 2 1 1 1 2 2 1 1 1 1 1 1 4 3 4 2 4 4 4 4 2 4 2 2\n",
       "[77] 2\n",
       "\n",
       "Within cluster sum of squares by cluster:\n",
       "[1] 27.92239 67.56407 61.00065 61.37982\n",
       " (between_SS / total_SS =  42.7 %)\n",
       "\n",
       "Available components:\n",
       "\n",
       "[1] \"cluster\"      \"centers\"      \"totss\"        \"withinss\"     \"tot.withinss\"\n",
       "[6] \"betweenss\"    \"size\"         \"iter\"         \"ifault\"      "
      ]
     },
     "metadata": {},
     "output_type": "display_data"
    }
   ],
   "source": [
    "set.seed(1234567)\n",
    "km1_4 <- kmeans(vds,4,nstart=20)\n",
    "km1_4"
   ]
  },
  {
   "cell_type": "code",
   "execution_count": 18,
   "metadata": {
    "collapsed": false
   },
   "outputs": [
    {
     "data": {
      "text/html": [
       "<ol class=list-inline>\n",
       "\t<li>4</li>\n",
       "\t<li>3</li>\n",
       "\t<li>3</li>\n",
       "\t<li>3</li>\n",
       "\t<li>4</li>\n",
       "\t<li>2</li>\n",
       "\t<li>3</li>\n",
       "\t<li>4</li>\n",
       "\t<li>4</li>\n",
       "\t<li>2</li>\n",
       "\t<li>2</li>\n",
       "\t<li>2</li>\n",
       "\t<li>4</li>\n",
       "\t<li>1</li>\n",
       "\t<li>2</li>\n",
       "\t<li>2</li>\n",
       "\t<li>2</li>\n",
       "\t<li>1</li>\n",
       "\t<li>1</li>\n",
       "\t<li>2</li>\n",
       "\t<li>1</li>\n",
       "\t<li>1</li>\n",
       "\t<li>2</li>\n",
       "\t<li>1</li>\n",
       "\t<li>2</li>\n",
       "\t<li>4</li>\n",
       "\t<li>3</li>\n",
       "\t<li>3</li>\n",
       "\t<li>2</li>\n",
       "\t<li>3</li>\n",
       "\t<li>2</li>\n",
       "\t<li>1</li>\n",
       "\t<li>1</li>\n",
       "\t<li>2</li>\n",
       "\t<li>2</li>\n",
       "\t<li>2</li>\n",
       "\t<li>2</li>\n",
       "\t<li>2</li>\n",
       "\t<li>4</li>\n",
       "\t<li>4</li>\n",
       "\t<li>4</li>\n",
       "\t<li>4</li>\n",
       "\t<li>4</li>\n",
       "\t<li>4</li>\n",
       "\t<li>4</li>\n",
       "\t<li>2</li>\n",
       "\t<li>4</li>\n",
       "\t<li>4</li>\n",
       "\t<li>1</li>\n",
       "\t<li>4</li>\n",
       "\t<li>3</li>\n",
       "\t<li>1</li>\n",
       "\t<li>2</li>\n",
       "\t<li>1</li>\n",
       "\t<li>1</li>\n",
       "\t<li>1</li>\n",
       "\t<li>2</li>\n",
       "\t<li>2</li>\n",
       "\t<li>1</li>\n",
       "\t<li>1</li>\n",
       "\t<li>1</li>\n",
       "\t<li>1</li>\n",
       "\t<li>1</li>\n",
       "\t<li>1</li>\n",
       "\t<li>4</li>\n",
       "\t<li>3</li>\n",
       "\t<li>4</li>\n",
       "\t<li>2</li>\n",
       "\t<li>4</li>\n",
       "\t<li>4</li>\n",
       "\t<li>4</li>\n",
       "\t<li>4</li>\n",
       "\t<li>2</li>\n",
       "\t<li>4</li>\n",
       "\t<li>2</li>\n",
       "\t<li>2</li>\n",
       "\t<li>2</li>\n",
       "</ol>\n"
      ],
      "text/latex": [
       "\\begin{enumerate*}\n",
       "\\item 4\n",
       "\\item 3\n",
       "\\item 3\n",
       "\\item 3\n",
       "\\item 4\n",
       "\\item 2\n",
       "\\item 3\n",
       "\\item 4\n",
       "\\item 4\n",
       "\\item 2\n",
       "\\item 2\n",
       "\\item 2\n",
       "\\item 4\n",
       "\\item 1\n",
       "\\item 2\n",
       "\\item 2\n",
       "\\item 2\n",
       "\\item 1\n",
       "\\item 1\n",
       "\\item 2\n",
       "\\item 1\n",
       "\\item 1\n",
       "\\item 2\n",
       "\\item 1\n",
       "\\item 2\n",
       "\\item 4\n",
       "\\item 3\n",
       "\\item 3\n",
       "\\item 2\n",
       "\\item 3\n",
       "\\item 2\n",
       "\\item 1\n",
       "\\item 1\n",
       "\\item 2\n",
       "\\item 2\n",
       "\\item 2\n",
       "\\item 2\n",
       "\\item 2\n",
       "\\item 4\n",
       "\\item 4\n",
       "\\item 4\n",
       "\\item 4\n",
       "\\item 4\n",
       "\\item 4\n",
       "\\item 4\n",
       "\\item 2\n",
       "\\item 4\n",
       "\\item 4\n",
       "\\item 1\n",
       "\\item 4\n",
       "\\item 3\n",
       "\\item 1\n",
       "\\item 2\n",
       "\\item 1\n",
       "\\item 1\n",
       "\\item 1\n",
       "\\item 2\n",
       "\\item 2\n",
       "\\item 1\n",
       "\\item 1\n",
       "\\item 1\n",
       "\\item 1\n",
       "\\item 1\n",
       "\\item 1\n",
       "\\item 4\n",
       "\\item 3\n",
       "\\item 4\n",
       "\\item 2\n",
       "\\item 4\n",
       "\\item 4\n",
       "\\item 4\n",
       "\\item 4\n",
       "\\item 2\n",
       "\\item 4\n",
       "\\item 2\n",
       "\\item 2\n",
       "\\item 2\n",
       "\\end{enumerate*}\n"
      ],
      "text/markdown": [
       "1. 4\n",
       "2. 3\n",
       "3. 3\n",
       "4. 3\n",
       "5. 4\n",
       "6. 2\n",
       "7. 3\n",
       "8. 4\n",
       "9. 4\n",
       "10. 2\n",
       "11. 2\n",
       "12. 2\n",
       "13. 4\n",
       "14. 1\n",
       "15. 2\n",
       "16. 2\n",
       "17. 2\n",
       "18. 1\n",
       "19. 1\n",
       "20. 2\n",
       "21. 1\n",
       "22. 1\n",
       "23. 2\n",
       "24. 1\n",
       "25. 2\n",
       "26. 4\n",
       "27. 3\n",
       "28. 3\n",
       "29. 2\n",
       "30. 3\n",
       "31. 2\n",
       "32. 1\n",
       "33. 1\n",
       "34. 2\n",
       "35. 2\n",
       "36. 2\n",
       "37. 2\n",
       "38. 2\n",
       "39. 4\n",
       "40. 4\n",
       "41. 4\n",
       "42. 4\n",
       "43. 4\n",
       "44. 4\n",
       "45. 4\n",
       "46. 2\n",
       "47. 4\n",
       "48. 4\n",
       "49. 1\n",
       "50. 4\n",
       "51. 3\n",
       "52. 1\n",
       "53. 2\n",
       "54. 1\n",
       "55. 1\n",
       "56. 1\n",
       "57. 2\n",
       "58. 2\n",
       "59. 1\n",
       "60. 1\n",
       "61. 1\n",
       "62. 1\n",
       "63. 1\n",
       "64. 1\n",
       "65. 4\n",
       "66. 3\n",
       "67. 4\n",
       "68. 2\n",
       "69. 4\n",
       "70. 4\n",
       "71. 4\n",
       "72. 4\n",
       "73. 2\n",
       "74. 4\n",
       "75. 2\n",
       "76. 2\n",
       "77. 2\n",
       "\n",
       "\n"
      ],
      "text/plain": [
       " [1] 4 3 3 3 4 2 3 4 4 2 2 2 4 1 2 2 2 1 1 2 1 1 2 1 2 4 3 3 2 3 2 1 1 2 2 2 2 2\n",
       "[39] 4 4 4 4 4 4 4 2 4 4 1 4 3 1 2 1 1 1 2 2 1 1 1 1 1 1 4 3 4 2 4 4 4 4 2 4 2 2\n",
       "[77] 2"
      ]
     },
     "metadata": {},
     "output_type": "display_data"
    }
   ],
   "source": [
    "k4 <- km1_4$cluster\n",
    "k4"
   ]
  },
  {
   "cell_type": "markdown",
   "metadata": {},
   "source": [
    "#### Cluster output for merging with GeoDa"
   ]
  },
  {
   "cell_type": "code",
   "execution_count": 19,
   "metadata": {
    "collapsed": true
   },
   "outputs": [],
   "source": [
    "kmdat <- as.data.frame(cbind(k4,k6))\n",
    "kmdat$IDK <- dat$ComAreaID\n",
    "write.csv(kmdat,\"kmeansclus.csv\",row.names=FALSE)"
   ]
  }
 ],
 "metadata": {
  "kernelspec": {
   "display_name": "R",
   "language": "R",
   "name": "ir"
  },
  "language_info": {
   "codemirror_mode": "r",
   "file_extension": ".r",
   "mimetype": "text/x-r-source",
   "name": "R",
   "pygments_lexer": "r",
   "version": "3.3.1"
  }
 },
 "nbformat": 4,
 "nbformat_minor": 0
}
